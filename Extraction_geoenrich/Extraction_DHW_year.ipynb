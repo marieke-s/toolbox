{
 "cells": [
  {
   "cell_type": "markdown",
   "id": "811dd53e",
   "metadata": {},
   "source": [
    "### Import packages"
   ]
  },
  {
   "cell_type": "code",
   "execution_count": 1,
   "id": "1610d216",
   "metadata": {},
   "outputs": [],
   "source": [
    "import numpy as np\n",
    "import os\n",
    "import pandas as pd\n",
    "from PIL import Image\n",
    "from scipy.ndimage import generic_filter\n",
    "import time\n",
    "from tqdm import tqdm\n"
   ]
  },
  {
   "cell_type": "markdown",
   "id": "f2d589b7",
   "metadata": {},
   "source": [
    "### Import csv file with points"
   ]
  },
  {
   "cell_type": "code",
   "execution_count": 2,
   "id": "50001c8e",
   "metadata": {},
   "outputs": [],
   "source": [
    "# Read the CSV file into a DataFrame\n",
    "df = pd.read_csv('../Data/site_coord_geoenrich2_LM.csv')\n",
    "\n",
    "# Convert the 'date' column to datetime format\n",
    "df['date'] = pd.to_datetime(df['date'])\n",
    "\n",
    "# Create a dictionary to store the DataFrames for each year\n",
    "dfs_by_year = {}\n",
    "\n",
    "# Iterate over the years from 2008 to 2020\n",
    "for year in range(2008, 2021):\n",
    "    # Filter the rows for the current year\n",
    "    df_year = df[df['date'].dt.year == year]\n",
    "    # Store the DataFrame in the dictionary with the year as the key\n",
    "    dfs_by_year[year] = df_year\n",
    "\n",
    "# Access the DataFrames for each year\n",
    "df_2008 = dfs_by_year[2008]\n",
    "df_2009 = dfs_by_year[2009]\n",
    "df_2010 = dfs_by_year[2010]\n",
    "df_2011 = dfs_by_year[2011]\n",
    "df_2012 = dfs_by_year[2012]\n",
    "df_2013 = dfs_by_year[2013]\n",
    "df_2014 = dfs_by_year[2014]\n",
    "df_2015 = dfs_by_year[2015]\n",
    "df_2016 = dfs_by_year[2016]\n",
    "df_2017 = dfs_by_year[2017]\n",
    "df_2018 = dfs_by_year[2018]\n",
    "df_2019 = dfs_by_year[2019]\n",
    "df_2020 = dfs_by_year[2020]\n"
   ]
  },
  {
   "cell_type": "markdown",
   "id": "1e0d53ff",
   "metadata": {},
   "source": [
    "# With buffer"
   ]
  },
  {
   "cell_type": "markdown",
   "id": "d0bc2ff9",
   "metadata": {},
   "source": [
    "### Define functions"
   ]
  },
  {
   "cell_type": "code",
   "execution_count": 7,
   "id": "8b855e3d",
   "metadata": {},
   "outputs": [],
   "source": [
    "# Define the buffer size in pixels (each pixel = 5km)\n",
    "buffer_size = 2\n",
    "\n",
    "# Function to calculate the mean within the buffer region\n",
    "def calculate_mean(image, point):\n",
    "    # Convert the latitude and longitude to pixel coordinates\n",
    "    lat, lon = point['latitude'], point['longitude']\n",
    "    x = int((lon + 180) * (image.shape[1] / 360))\n",
    "    y = int((90 - lat) * (image.shape[0] / 180))\n",
    "\n",
    "    # Create a circular mask centered at the point with the buffer size\n",
    "    mask = np.zeros_like(image, dtype=bool)\n",
    "    yy, xx = np.ogrid[:image.shape[0], :image.shape[1]]\n",
    "    mask[(xx - x) ** 2 + (yy - y) ** 2 <= buffer_size ** 2] = True\n",
    "\n",
    "    # Apply the mask to the image and calculate the mean within the buffer region\n",
    "    buffer_values = image[mask]\n",
    "    mean_value = np.mean(buffer_values)\n",
    "\n",
    "    return mean_value\n"
   ]
  },
  {
   "cell_type": "code",
   "execution_count": 8,
   "id": "8bf3d642",
   "metadata": {},
   "outputs": [],
   "source": [
    "# Function to extract the mean pixel value within the buffer for a given point and image\n",
    "def get_mean_pixel_value(image_path, point):\n",
    "    image = np.array(Image.open(image_path))\n",
    "    mean_value = calculate_mean(image, point)\n",
    "    date_str = os.path.basename(image_path).split('_')[-1].split('.')[0]\n",
    "    date = pd.to_datetime(date_str, format='%Y%m%d').date()\n",
    "    return date, mean_value\n"
   ]
  },
  {
   "cell_type": "markdown",
   "id": "7905d2f5",
   "metadata": {},
   "source": [
    "### Define paths"
   ]
  },
  {
   "cell_type": "code",
   "execution_count": 15,
   "id": "25b7e574",
   "metadata": {},
   "outputs": [
    {
     "name": "stdout",
     "output_type": "stream",
     "text": [
      "         id  latitude  longitude       date\n",
      "0        c1       -20        149 2008-01-01\n",
      "14      c15       -20        150 2008-01-01\n",
      "28      c29       -21        151 2008-01-01\n",
      "42      c43       -21        152 2008-01-01\n",
      "56      c57       -21        153 2008-01-01\n",
      "...     ...       ...        ...        ...\n",
      "1778  c1779       -44        147 2008-01-01\n",
      "1792  c1793       -42        145 2008-01-01\n",
      "1806  c1807       -41        148 2008-01-01\n",
      "1820  c1821       -41        145 2008-01-01\n",
      "1834  c1835       -40        148 2008-01-01\n",
      "\n",
      "[132 rows x 4 columns]\n"
     ]
    }
   ],
   "source": [
    "# Path to the folder containing the images\n",
    "images_folder = '../DHW/2008'\n",
    "\n",
    "# Points DataFrame\n",
    "points_df = df_2008\n",
    "\n",
    "print(points_df)\n"
   ]
  },
  {
   "cell_type": "markdown",
   "id": "715523ff",
   "metadata": {},
   "source": [
    "### Extract DHW values from images"
   ]
  },
  {
   "cell_type": "code",
   "execution_count": 14,
   "id": "bfb79d04",
   "metadata": {},
   "outputs": [
    {
     "name": "stderr",
     "output_type": "stream",
     "text": [
      "Point c1: 100%|███████████████████████████████| 366/366 [02:30<00:00,  2.44it/s]"
     ]
    },
    {
     "name": "stdout",
     "output_type": "stream",
     "text": [
      "     id  latitude  longitude        date  mean_dhw\n",
      "0    c1       -20        149  2008-06-19    238.75\n",
      "1    c1       -20        149  2008-09-25    238.75\n",
      "2    c1       -20        149  2008-01-01    238.75\n",
      "3    c1       -20        149  2008-01-02    238.75\n",
      "4    c1       -20        149  2008-01-03    238.75\n",
      "..   ..       ...        ...         ...       ...\n",
      "361  c1       -20        149  2008-01-12    238.75\n",
      "362  c1       -20        149  2008-01-13    238.75\n",
      "363  c1       -20        149  2008-01-14    238.75\n",
      "364  c1       -20        149  2008-01-15    238.75\n",
      "365  c1       -20        149  2008-01-16    238.75\n",
      "\n",
      "[366 rows x 5 columns]\n",
      "Execution time: 150.25933170318604 seconds\n"
     ]
    },
    {
     "name": "stderr",
     "output_type": "stream",
     "text": [
      "\n"
     ]
    }
   ],
   "source": [
    "# Create an empty list to store the results\n",
    "results_list = []\n",
    "\n",
    "# Start the timer\n",
    "start_time = time.time()\n",
    "\n",
    "# Iterate over the points and extract mean pixel values\n",
    "for _, point in points_df.iterrows():\n",
    "    image_date_mean = []\n",
    "    for filename in tqdm(os.listdir(images_folder), desc=f\"Point {point['id']}\"):\n",
    "        image_path = os.path.join(images_folder, filename)\n",
    "        result = get_mean_pixel_value(image_path, point)\n",
    "        if result is not None:\n",
    "            date, mean_value = result\n",
    "            image_date_mean.append((date, mean_value))\n",
    "\n",
    "    # Append the results to the list\n",
    "    point_data = {\n",
    "        'id': point['id'],\n",
    "        'latitude': point['latitude'],\n",
    "        'longitude': point['longitude'],\n",
    "        'date': [date for date, _ in image_date_mean],\n",
    "        'mean_dhw': [mean for _, mean in image_date_mean]\n",
    "    }\n",
    "    point_df = pd.DataFrame(point_data)\n",
    "    results_list.append(point_df)\n",
    "\n",
    "# Concatenate all the results into a single DataFrame\n",
    "results_df = pd.concat(results_list, ignore_index=True)\n",
    "\n",
    "# Calculate the execution time\n",
    "execution_time = time.time() - start_time\n",
    "\n",
    "# Print the results\n",
    "print(results_df)\n",
    "print(f\"Execution time: {execution_time} seconds\")\n"
   ]
  },
  {
   "cell_type": "markdown",
   "id": "cb3a1309",
   "metadata": {},
   "source": [
    "### Save results to csv"
   ]
  },
  {
   "cell_type": "code",
   "execution_count": 1,
   "id": "5942e90c",
   "metadata": {},
   "outputs": [
    {
     "ename": "NameError",
     "evalue": "name 'results_df' is not defined",
     "output_type": "error",
     "traceback": [
      "\u001b[0;31m---------------------------------------------------------------------------\u001b[0m",
      "\u001b[0;31mNameError\u001b[0m                                 Traceback (most recent call last)",
      "Cell \u001b[0;32mIn[1], line 2\u001b[0m\n\u001b[1;32m      1\u001b[0m \u001b[38;5;66;03m# Save the results to a CSV file\u001b[39;00m\n\u001b[0;32m----> 2\u001b[0m \u001b[43mresults_df\u001b[49m\u001b[38;5;241m.\u001b[39mto_csv(\u001b[38;5;124m'\u001b[39m\u001b[38;5;124m../Results/DHW_2008_test1.csv\u001b[39m\u001b[38;5;124m'\u001b[39m, index\u001b[38;5;241m=\u001b[39m\u001b[38;5;28;01mFalse\u001b[39;00m)\n",
      "\u001b[0;31mNameError\u001b[0m: name 'results_df' is not defined"
     ]
    }
   ],
   "source": [
    "# Save the results to a CSV file\n",
    "results_df.to_csv('../Results/DHW_2008_test1.csv', index=False)"
   ]
  },
  {
   "cell_type": "markdown",
   "id": "465bba52",
   "metadata": {},
   "source": [
    "# Without buffer"
   ]
  },
  {
   "cell_type": "markdown",
   "id": "13ebb5f0",
   "metadata": {},
   "source": [
    "### Define functions"
   ]
  },
  {
   "cell_type": "code",
   "execution_count": 7,
   "id": "4fa3b144",
   "metadata": {},
   "outputs": [],
   "source": [
    "# Function to extract pixel value at a given location\n",
    "def get_pixel_value(image_path, point):\n",
    "    try:\n",
    "        image = Image.open(image_path)\n",
    "    except (IOError, SyntaxError) as e:\n",
    "        print(f\"Error opening image {image_path}: {e}\")\n",
    "        return None\n",
    "    \n",
    "    date_str = os.path.basename(image_path).split('_')[-1].split('.')[0]\n",
    "    date = pd.to_datetime(date_str, format='%Y%m%d').date()\n",
    "    pixel_coords = (int(point['longitude']), int(point['latitude']))\n",
    "    dhw_value = image.getpixel(pixel_coords)\n",
    "    return date, dhw_value\n"
   ]
  },
  {
   "cell_type": "markdown",
   "id": "d255f230",
   "metadata": {},
   "source": [
    "### Define paths"
   ]
  },
  {
   "cell_type": "code",
   "execution_count": 8,
   "id": "252794a6",
   "metadata": {},
   "outputs": [],
   "source": [
    "# Path to the folder containing the images\n",
    "images_folder = '../DHW/2008'\n",
    "\n",
    "# Load points data from the CSV file into a DataFrame\n",
    "points_df = df_2008[:1]"
   ]
  },
  {
   "cell_type": "markdown",
   "id": "21647756",
   "metadata": {},
   "source": [
    "### Extract DHW value without buffer"
   ]
  },
  {
   "cell_type": "code",
   "execution_count": 9,
   "id": "d11c7ac1",
   "metadata": {},
   "outputs": [
    {
     "name": "stderr",
     "output_type": "stream",
     "text": [
      "Point c1: 100%|███████████████████████████████| 366/366 [01:17<00:00,  4.72it/s]"
     ]
    },
    {
     "name": "stdout",
     "output_type": "stream",
     "text": [
      "     id  latitude  longitude        date                   dhw\n",
      "0    c1       -20        149  2008-06-19  (150, 150, 150, 255)\n",
      "1    c1       -20        149  2008-09-25  (150, 150, 150, 255)\n",
      "2    c1       -20        149  2008-01-01  (150, 150, 150, 255)\n",
      "3    c1       -20        149  2008-01-02  (150, 150, 150, 255)\n",
      "4    c1       -20        149  2008-01-03  (150, 150, 150, 255)\n",
      "..   ..       ...        ...         ...                   ...\n",
      "361  c1       -20        149  2008-01-12  (150, 150, 150, 255)\n",
      "362  c1       -20        149  2008-01-13  (150, 150, 150, 255)\n",
      "363  c1       -20        149  2008-01-14  (150, 150, 150, 255)\n",
      "364  c1       -20        149  2008-01-15  (150, 150, 150, 255)\n",
      "365  c1       -20        149  2008-01-16  (150, 150, 150, 255)\n",
      "\n",
      "[366 rows x 5 columns]\n"
     ]
    },
    {
     "name": "stderr",
     "output_type": "stream",
     "text": [
      "\n"
     ]
    },
    {
     "ename": "NameError",
     "evalue": "name 'execution_time' is not defined",
     "output_type": "error",
     "traceback": [
      "\u001b[0;31m---------------------------------------------------------------------------\u001b[0m",
      "\u001b[0;31mNameError\u001b[0m                                 Traceback (most recent call last)",
      "Cell \u001b[0;32mIn[9], line 29\u001b[0m\n\u001b[1;32m     27\u001b[0m \u001b[38;5;66;03m# Print the results\u001b[39;00m\n\u001b[1;32m     28\u001b[0m \u001b[38;5;28mprint\u001b[39m(results_df)\n\u001b[0;32m---> 29\u001b[0m \u001b[38;5;28mprint\u001b[39m(\u001b[38;5;124mf\u001b[39m\u001b[38;5;124m\"\u001b[39m\u001b[38;5;124mExecution time: \u001b[39m\u001b[38;5;132;01m{\u001b[39;00m\u001b[43mexecution_time\u001b[49m\u001b[38;5;132;01m}\u001b[39;00m\u001b[38;5;124m seconds\u001b[39m\u001b[38;5;124m\"\u001b[39m)\n",
      "\u001b[0;31mNameError\u001b[0m: name 'execution_time' is not defined"
     ]
    }
   ],
   "source": [
    "# Iterate over the points and extract pixel values\n",
    "results_list = []\n",
    "\n",
    "for _, point in points_df.iterrows():\n",
    "    image_date_dhw = []\n",
    "    for filename in tqdm(os.listdir(images_folder), desc=f\"Point {point['id']}\"):\n",
    "        image_path = os.path.join(images_folder, filename)\n",
    "        result = get_pixel_value(image_path, point)\n",
    "        if result is not None:\n",
    "            date, dhw_value = result\n",
    "            image_date_dhw.append((date, dhw_value))\n",
    "    \n",
    "    # Append the results to the list\n",
    "    point_data = {\n",
    "        'id': point['id'],\n",
    "        'latitude': point['latitude'],\n",
    "        'longitude': point['longitude'],\n",
    "        'date': [date for date, _ in image_date_dhw],\n",
    "        'dhw': [dhw for _, dhw in image_date_dhw]\n",
    "    }\n",
    "    point_df = pd.DataFrame(point_data)\n",
    "    results_list.append(point_df)\n",
    "\n",
    "# Concatenate all the results into a single DataFrame\n",
    "results_df = pd.concat(results_list, ignore_index=True)\n",
    "\n",
    "# Print the results\n",
    "print(results_df)\n",
    "print(f\"Execution time: {execution_time} seconds\")\n"
   ]
  },
  {
   "cell_type": "markdown",
   "id": "8f92b43c",
   "metadata": {},
   "source": [
    "### Save results"
   ]
  },
  {
   "cell_type": "code",
   "execution_count": 10,
   "id": "5616eef4",
   "metadata": {},
   "outputs": [],
   "source": [
    "# Save the results to a CSV file\n",
    "results_df.to_csv('../Results/DHW_2008_test1_noBuffer.csv', index=False)"
   ]
  }
 ],
 "metadata": {
  "kernelspec": {
   "display_name": "Python 3 (ipykernel)",
   "language": "python",
   "name": "python3"
  },
  "language_info": {
   "codemirror_mode": {
    "name": "ipython",
    "version": 3
   },
   "file_extension": ".py",
   "mimetype": "text/x-python",
   "name": "python",
   "nbconvert_exporter": "python",
   "pygments_lexer": "ipython3",
   "version": "3.8.18"
  }
 },
 "nbformat": 4,
 "nbformat_minor": 5
}
