{
 "cells": [
  {
   "cell_type": "markdown",
   "id": "c8107974",
   "metadata": {},
   "source": [
    "# DHW Extraction"
   ]
  },
  {
   "cell_type": "markdown",
   "id": "47e036be",
   "metadata": {},
   "source": [
    "### Load your libraries"
   ]
  },
  {
   "cell_type": "code",
   "execution_count": null,
   "id": "af5b34cb",
   "metadata": {},
   "outputs": [],
   "source": [
    "from concurrent.futures import ThreadPoolExecutor"
   ]
  },
  {
   "cell_type": "code",
   "execution_count": null,
   "id": "196d29cc",
   "metadata": {},
   "outputs": [],
   "source": [
    "import os\n",
    "import csv\n",
    "from PIL import Image\n",
    "import pandas as pd\n",
    "from shapely.geometry import Point\n",
    "from shapely.ops import unary_union\n",
    "from geopandas import GeoDataFrame\n",
    "from concurrent.futures import ThreadPoolExecutor, as_completed\n",
    "from tqdm import tqdm\n",
    "import numpy as np"
   ]
  },
  {
   "cell_type": "markdown",
   "id": "0fd4a55b",
   "metadata": {},
   "source": [
    "### Define the functions"
   ]
  },
  {
   "cell_type": "code",
   "execution_count": null,
   "id": "2bbfdaad",
   "metadata": {},
   "outputs": [],
   "source": [
    "def calculate_mean_dhw_value(point, dhw_folder, image_cache):\n",
    "    dhw_values = []\n",
    "    for filename, image_array in image_cache[dhw_folder].items():\n",
    "        pixel_coords = point_to_pixel_coords(point, image_array)\n",
    "        dhw_value = image_array[pixel_coords[1], pixel_coords[0]]\n",
    "        dhw_values.append(dhw_value)\n",
    "    mean_dhw = sum(dhw_values) / len(dhw_values)\n",
    "    return mean_dhw"
   ]
  },
  {
   "cell_type": "code",
   "execution_count": null,
   "id": "4de22843",
   "metadata": {},
   "outputs": [],
   "source": [
    "def point_to_pixel_coords(point, image):\n",
    "    img_width, img_height = image.size\n",
    "    pixel_x = int((point.x / 360 + 0.5) * img_width)\n",
    "    pixel_y = int((0.5 - point.y / 180) * img_height)\n",
    "    return pixel_x, pixel_y  # Return as a tuple"
   ]
  },
  {
   "cell_type": "code",
   "execution_count": null,
   "id": "34d11138",
   "metadata": {},
   "outputs": [],
   "source": [
    "def load_images_into_cache(dhw_folder):\n",
    "    image_cache = {}\n",
    "    for filename in os.listdir(dhw_folder):\n",
    "        if filename.endswith('.md5'):\n",
    "            continue  # Skip MD5 checksum files\n",
    "        file_path = os.path.join(dhw_folder, filename)\n",
    "        image = Image.open(file_path)\n",
    "        image_array = np.array(image)\n",
    "        image_cache[filename] = image_array\n",
    "    return image_cache\n"
   ]
  },
  {
   "cell_type": "markdown",
   "id": "c6400911",
   "metadata": {},
   "source": [
    "### Read the CSV file containing point information:"
   ]
  },
  {
   "cell_type": "code",
   "execution_count": null,
   "id": "1d0cb638",
   "metadata": {},
   "outputs": [],
   "source": [
    "point_data = pd.read_csv('../Data/site_coord_geoenrich2_LM.csv')\n",
    "point_data['date'] = pd.to_datetime(point_data['date'])  # Convert 'date' column to datetime\n",
    "\n",
    "point_data = point_data[:2]\n",
    "print(point_data)"
   ]
  },
  {
   "cell_type": "markdown",
   "id": "00bca4f1",
   "metadata": {},
   "source": [
    "###     Iterate over each row in the CSV file to calculate the mean DHW value for each point:"
   ]
  },
  {
   "cell_type": "code",
   "execution_count": null,
   "id": "6fc6aa5a",
   "metadata": {},
   "outputs": [],
   "source": [
    "dhw_results = []\n",
    "num_points = len(point_data)\n",
    "\n",
    "with tqdm(total=num_points, desc=\"Calculating Mean DHW\") as pbar:\n",
    "    image_cache = {}  # Define image_cache variable\n",
    "    \n",
    "    # Load images into cache for the year 2009\n",
    "    dhw_folder_2009 = \"../DHW/2009\"\n",
    "    image_cache[dhw_folder_2009] = load_images_into_cache(dhw_folder_2009)\n",
    "\n",
    "\n",
    "    def process_point(row, image_cache):\n",
    "        point_id = row['id']\n",
    "        latitude = row['latitude']\n",
    "        longitude = row['longitude']\n",
    "        date = row['date']\n",
    "\n",
    "        point = Point(longitude, latitude)\n",
    "        buffer_radius = 10000  # 10 km buffer\n",
    "\n",
    "        buffer = point.buffer(buffer_radius)\n",
    "        buffer_gdf = GeoDataFrame(geometry=[buffer])\n",
    "\n",
    "        year_folder = str(date.year)\n",
    "        dhw_folder = os.path.join('../DHW', year_folder)\n",
    "\n",
    "        mean_dhw = calculate_mean_dhw_value(point, dhw_folder, image_cache)\n",
    "        return (point_id, mean_dhw)\n",
    "\n",
    "\n",
    "\n",
    "    with ThreadPoolExecutor() as executor:\n",
    "        futures = [executor.submit(process_point, row, image_cache) for _, row in point_data.iterrows()]\n",
    "        for future in tqdm(as_completed(futures), total=num_points):\n",
    "            dhw_results.append(future.result())"
   ]
  },
  {
   "cell_type": "markdown",
   "id": "4f2cfbab",
   "metadata": {},
   "source": [
    "### Create a new CSV file with the point IDs and the corresponding mean DHW values"
   ]
  },
  {
   "cell_type": "code",
   "execution_count": null,
   "id": "4d4d1384",
   "metadata": {},
   "outputs": [],
   "source": [
    "output_file = '../Results/dhw_all_1_mean.csv'\n",
    "with open(output_file, 'w', newline='') as csvfile:\n",
    "    writer = csv.writer(csvfile)\n",
    "    writer.writerow(['point_id', 'mean_dhw'])\n",
    "    writer.writerows(dhw_results)\n"
   ]
  }
 ],
 "metadata": {
  "kernelspec": {
   "display_name": "Python 3 (ipykernel)",
   "language": "python",
   "name": "python3"
  },
  "language_info": {
   "codemirror_mode": {
    "name": "ipython",
    "version": 3
   },
   "file_extension": ".py",
   "mimetype": "text/x-python",
   "name": "python",
   "nbconvert_exporter": "python",
   "pygments_lexer": "ipython3",
   "version": "3.8.18"
  }
 },
 "nbformat": 4,
 "nbformat_minor": 5
}
