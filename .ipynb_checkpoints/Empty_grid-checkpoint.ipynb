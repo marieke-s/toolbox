{
 "cells": [
  {
   "cell_type": "code",
   "execution_count": 5,
   "id": "9a7bdd39-f965-4c07-945c-b924fc19e892",
   "metadata": {},
   "outputs": [],
   "source": [
    "import geopandas as gpd\n",
    "import numpy as np\n",
    "from shapely.geometry import Point, Polygon\n",
    "import rasterio\n",
    "from rasterio.features import geometry_mask"
   ]
  },
  {
   "cell_type": "code",
   "execution_count": 10,
   "id": "0a18b0c3-9f7c-4f18-8d23-8afa35f061a9",
   "metadata": {},
   "outputs": [
    {
     "name": "stdout",
     "output_type": "stream",
     "text": [
      "done\n"
     ]
    },
    {
     "name": "stderr",
     "output_type": "stream",
     "text": [
      "/home/marieke/miniconda3/lib/python3.11/site-packages/pyproj/crs/crs.py:141: FutureWarning: '+init=<authority>:<code>' syntax is deprecated. '<authority>:<code>' is the preferred initialization method. When making the change, be mindful of axis order changes: https://pyproj4.github.io/pyproj/stable/gotchas.html#axis-order-changes-in-proj-6\n",
      "  in_crs_string = _prepare_from_proj_string(in_crs_string)\n"
     ]
    }
   ],
   "source": [
    "# Define the extent\n",
    "xmin, ymin = 2.9496796134239673, 41.2433333332818108\n",
    "xmax, ymax = 10.2183333333337316, 43.9239674807151914\n",
    "\n",
    "# Define resolution\n",
    "resolution = 0.1  # Starting with a low resolution\n",
    "\n",
    "# Calculate number of grid cells\n",
    "num_x = int((xmax - xmin) / resolution)\n",
    "num_y = int((ymax - ymin) / resolution)\n",
    "\n",
    "# Check if width or height is zero\n",
    "if num_x == 0 or num_y == 0:\n",
    "    raise ValueError(\"Invalid resolution. Width or height is zero.\")\n",
    "\n",
    "# Generate grid points\n",
    "x_coords = np.linspace(bbox[0], bbox[2], num_x)\n",
    "y_coords = np.linspace(bbox[1], bbox[3], num_y)\n",
    "grid_points = [Point(x, y) for x in x_coords for y in y_coords]\n",
    "\n",
    "# Create GeoDataFrame\n",
    "grid_gdf = gpd.GeoDataFrame(geometry=grid_points)\n",
    "\n",
    "# Create a CRS for the GeoDataFrame\n",
    "grid_gdf.crs = {'init': 'epsg:4326'}  # WGS 84\n",
    "\n",
    "# Write GeoDataFrame to shapefile\n",
    "grid_gdf.to_file(\"grid.shp\")\n",
    "\n",
    "# Alternatively, you can rasterize the grid and save it as a raster file\n",
    "# Define raster bounds\n",
    "xmin, ymin, xmax, ymax = bbox\n",
    "nx = num_x\n",
    "ny = num_y\n",
    "\n",
    "# Create transformation\n",
    "transform = rasterio.transform.from_bounds(xmin, ymin, xmax, ymax, nx, ny)\n",
    "\n",
    "# Create an empty raster\n",
    "empty_raster = np.zeros((ny, nx), dtype=np.uint8)\n",
    "\n",
    "# Create a mask from the grid points\n",
    "mask = geometry_mask(grid_points, transform=transform, out_shape=(ny, nx))\n",
    "\n",
    "# Set the masked area to 1\n",
    "empty_raster[mask] = 1\n",
    "\n",
    "# Write the raster to a GeoTIFF file\n",
    "with rasterio.open(\"grid_medfr.tif\", 'w', driver='GTiff', width=nx, height=ny, count=1, dtype=str(empty_raster.dtype), crs='EPSG:4326', transform=transform) as dst:\n",
    "    dst.write(empty_raster, 1)\n",
    "\n",
    "print(\"done\")\n",
    "\n"
   ]
  },
  {
   "cell_type": "code",
   "execution_count": 13,
   "id": "1573a656-81dd-4331-b006-8383b50aab83",
   "metadata": {},
   "outputs": [
    {
     "name": "stderr",
     "output_type": "stream",
     "text": [
      "/home/marieke/miniconda3/lib/python3.11/site-packages/pyproj/crs/crs.py:141: FutureWarning: '+init=<authority>:<code>' syntax is deprecated. '<authority>:<code>' is the preferred initialization method. When making the change, be mindful of axis order changes: https://pyproj4.github.io/pyproj/stable/gotchas.html#axis-order-changes-in-proj-6\n",
      "  in_crs_string = _prepare_from_proj_string(in_crs_string)\n"
     ]
    },
    {
     "name": "stdout",
     "output_type": "stream",
     "text": [
      "done\n"
     ]
    }
   ],
   "source": [
    "# Define the extent\n",
    "xmin, ymin = 2.9496796134239673, 41.2433333332818108\n",
    "xmax, ymax = 10.2183333333337316, 43.9239674807151914\n",
    "\n",
    "# Define resolution\n",
    "resolution = 0.05  # Adjust the resolution as needed\n",
    "\n",
    "# Calculate number of grid cells\n",
    "num_x = int((xmax - xmin) / resolution)\n",
    "num_y = int((ymax - ymin) / resolution)\n",
    "\n",
    "# Check if width or height is zero\n",
    "if num_x == 0 or num_y == 0:\n",
    "    raise ValueError(\"Invalid resolution. Width or height is zero.\")\n",
    "\n",
    "\n",
    "# SHAPE\n",
    "# Generate grid points\n",
    "x_coords = np.linspace(xmin, xmax, num_x)\n",
    "y_coords = np.linspace(ymin, ymax, num_y)\n",
    "grid_points = [Point(x, y) for x in x_coords for y in y_coords]\n",
    "\n",
    "# Create GeoDataFrame\n",
    "grid_gdf = gpd.GeoDataFrame(geometry=grid_points)\n",
    "\n",
    "# Create a CRS for the GeoDataFrame\n",
    "grid_gdf.crs = {'init': 'epsg:4326'}  # WGS 84\n",
    "\n",
    "# Write GeoDataFrame to shapefile\n",
    "grid_gdf.to_file(\"grid_med005.shp\")\n",
    "\n",
    "\n",
    "# RASTER\n",
    "# Alternatively, you can rasterize the grid and save it as a raster file\n",
    "# Define raster bounds\n",
    "nx = num_x\n",
    "ny = num_y\n",
    "\n",
    "# Create transformation\n",
    "transform = rasterio.transform.from_bounds(xmin, ymin, xmax, ymax, nx, ny)\n",
    "\n",
    "# Create an empty raster\n",
    "empty_raster = np.zeros((ny, nx), dtype=np.uint8)\n",
    "\n",
    "# Create a mask from the grid points\n",
    "mask = geometry_mask(grid_points, transform=transform, out_shape=(ny, nx))\n",
    "\n",
    "# Set the masked area to 1\n",
    "empty_raster[mask] = 1\n",
    "\n",
    "# Write the raster to a GeoTIFF file\n",
    "with rasterio.open(\"grid_med005.tif\", 'w', driver='GTiff', width=nx, height=ny, count=1, dtype=str(empty_raster.dtype), crs='EPSG:4326', transform=transform) as dst:\n",
    "    dst.write(empty_raster, 1)\n",
    "\n",
    "print(\"done\")\n"
   ]
  }
 ],
 "metadata": {
  "kernelspec": {
   "display_name": "Python 3 (ipykernel)",
   "language": "python",
   "name": "python3"
  },
  "language_info": {
   "codemirror_mode": {
    "name": "ipython",
    "version": 3
   },
   "file_extension": ".py",
   "mimetype": "text/x-python",
   "name": "python",
   "nbconvert_exporter": "python",
   "pygments_lexer": "ipython3",
   "version": "3.11.5"
  }
 },
 "nbformat": 4,
 "nbformat_minor": 5
}
