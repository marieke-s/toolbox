{
 "cells": [
  {
   "cell_type": "markdown",
   "id": "c8107974",
   "metadata": {},
   "source": [
    "# DHW Extraction"
   ]
  },
  {
   "cell_type": "markdown",
   "id": "47e036be",
   "metadata": {},
   "source": [
    "### Load your libraries"
   ]
  },
  {
   "cell_type": "code",
   "execution_count": 23,
   "id": "196d29cc",
   "metadata": {},
   "outputs": [],
   "source": [
    "import os\n",
    "import csv\n",
    "from PIL import Image\n",
    "import pandas as pd\n",
    "from shapely.geometry import Point\n",
    "from shapely.ops import unary_union\n",
    "from geopandas import GeoDataFrame\n"
   ]
  },
  {
   "cell_type": "markdown",
   "id": "103629a3",
   "metadata": {},
   "source": [
    "### Define the functions"
   ]
  },
  {
   "cell_type": "code",
   "execution_count": 25,
   "id": "2c412763",
   "metadata": {},
   "outputs": [],
   "source": [
    "def calculate_mean_dhw_value(point, dhw_folder):\n",
    "    dhw_values = []\n",
    "    for filename in os.listdir(dhw_folder):\n",
    "        if filename.endswith('.png'):\n",
    "            image_path = os.path.join(dhw_folder, filename)\n",
    "            image = Image.open(image_path)\n",
    "            pixel_coords = point_to_pixel_coords(point, image)\n",
    "            dhw_value = image.getpixel(pixel_coords)\n",
    "            dhw_values.append(dhw_value)\n",
    "    mean_dhw = sum(dhw_values) / len(dhw_values)\n",
    "    return mean_dhw"
   ]
  },
  {
   "cell_type": "code",
   "execution_count": 26,
   "id": "21a0e007",
   "metadata": {},
   "outputs": [],
   "source": [
    "def point_to_pixel_coords(point, image):\n",
    "    img_width, img_height = image.size\n",
    "    pixel_x = int((point.x / 360 + 0.5) * img_width)\n",
    "    pixel_y = int((0.5 - point.y / 180) * img_height)\n",
    "    return (pixel_x, pixel_y)"
   ]
  },
  {
   "cell_type": "markdown",
   "id": "29be40eb",
   "metadata": {},
   "source": [
    "### Read the CSV file containing point information:"
   ]
  },
  {
   "cell_type": "code",
   "execution_count": 18,
   "id": "9fd99b77",
   "metadata": {},
   "outputs": [
    {
     "name": "stdout",
     "output_type": "stream",
     "text": [
      "         id  latitude  longitude       date\n",
      "0        c1       -20        149 2008-01-01\n",
      "1        c2       -20        149 2009-01-01\n",
      "2        c3       -20        149 2010-01-01\n",
      "3        c4       -20        149 2011-01-01\n",
      "4        c5       -20        149 2012-01-01\n",
      "...     ...       ...        ...        ...\n",
      "1843  c1844       -40        148 2017-01-01\n",
      "1844  c1845       -40        148 2018-01-01\n",
      "1845  c1846       -40        148 2019-01-01\n",
      "1846  c1847       -40        148 2020-01-01\n",
      "1847  c1848       -40        148 2021-01-01\n",
      "\n",
      "[1848 rows x 4 columns]\n"
     ]
    }
   ],
   "source": [
    "point_data = pd.read_csv('../Data/site_coord_geoenrich2_LM.csv')\n",
    "point_data['date'] = pd.to_datetime(point_data['date'])  # Convert 'date' column to datetime\n",
    "print(point_data)"
   ]
  },
  {
   "cell_type": "markdown",
   "id": "7fd4af63",
   "metadata": {},
   "source": [
    "###     Iterate over each row in the CSV file to calculate the mean DHW value for each point:"
   ]
  },
  {
   "cell_type": "code",
   "execution_count": 28,
   "id": "253e75e9",
   "metadata": {},
   "outputs": [
    {
     "ename": "KeyboardInterrupt",
     "evalue": "",
     "output_type": "error",
     "traceback": [
      "\u001b[0;31m---------------------------------------------------------------------------\u001b[0m",
      "\u001b[0;31mKeyboardInterrupt\u001b[0m                         Traceback (most recent call last)",
      "Cell \u001b[0;32mIn[28], line 23\u001b[0m\n\u001b[1;32m     21\u001b[0m         image \u001b[38;5;241m=\u001b[39m Image\u001b[38;5;241m.\u001b[39mopen(image_path)\n\u001b[1;32m     22\u001b[0m         pixel_coords \u001b[38;5;241m=\u001b[39m point_to_pixel_coords(point, image)\n\u001b[0;32m---> 23\u001b[0m         dhw_value \u001b[38;5;241m=\u001b[39m \u001b[43mimage\u001b[49m\u001b[38;5;241;43m.\u001b[39;49m\u001b[43mgetpixel\u001b[49m\u001b[43m(\u001b[49m\u001b[43mpixel_coords\u001b[49m\u001b[43m)\u001b[49m\n\u001b[1;32m     24\u001b[0m         dhw_values\u001b[38;5;241m.\u001b[39mappend(dhw_value)\n\u001b[1;32m     26\u001b[0m mean_dhw \u001b[38;5;241m=\u001b[39m \u001b[38;5;28msum\u001b[39m(dhw_values) \u001b[38;5;241m/\u001b[39m \u001b[38;5;28mlen\u001b[39m(dhw_values)\n",
      "File \u001b[0;32m/usr/lib/python3/dist-packages/PIL/Image.py:1408\u001b[0m, in \u001b[0;36mImage.getpixel\u001b[0;34m(self, xy)\u001b[0m\n\u001b[1;32m   1398\u001b[0m \u001b[38;5;28;01mdef\u001b[39;00m \u001b[38;5;21mgetpixel\u001b[39m(\u001b[38;5;28mself\u001b[39m, xy):\n\u001b[1;32m   1399\u001b[0m \u001b[38;5;250m    \u001b[39m\u001b[38;5;124;03m\"\"\"\u001b[39;00m\n\u001b[1;32m   1400\u001b[0m \u001b[38;5;124;03m    Returns the pixel value at a given position.\u001b[39;00m\n\u001b[1;32m   1401\u001b[0m \n\u001b[0;32m   (...)\u001b[0m\n\u001b[1;32m   1405\u001b[0m \u001b[38;5;124;03m       this method returns a tuple.\u001b[39;00m\n\u001b[1;32m   1406\u001b[0m \u001b[38;5;124;03m    \"\"\"\u001b[39;00m\n\u001b[0;32m-> 1408\u001b[0m     \u001b[38;5;28;43mself\u001b[39;49m\u001b[38;5;241;43m.\u001b[39;49m\u001b[43mload\u001b[49m\u001b[43m(\u001b[49m\u001b[43m)\u001b[49m\n\u001b[1;32m   1409\u001b[0m     \u001b[38;5;28;01mif\u001b[39;00m \u001b[38;5;28mself\u001b[39m\u001b[38;5;241m.\u001b[39mpyaccess:\n\u001b[1;32m   1410\u001b[0m         \u001b[38;5;28;01mreturn\u001b[39;00m \u001b[38;5;28mself\u001b[39m\u001b[38;5;241m.\u001b[39mpyaccess\u001b[38;5;241m.\u001b[39mgetpixel(xy)\n",
      "File \u001b[0;32m/usr/lib/python3/dist-packages/PIL/ImageFile.py:253\u001b[0m, in \u001b[0;36mImageFile.load\u001b[0;34m(self)\u001b[0m\n\u001b[1;32m    247\u001b[0m         \u001b[38;5;28;01mraise\u001b[39;00m \u001b[38;5;167;01mOSError\u001b[39;00m(\n\u001b[1;32m    248\u001b[0m             \u001b[38;5;124m\"\u001b[39m\u001b[38;5;124mimage file is truncated \u001b[39m\u001b[38;5;124m\"\u001b[39m\n\u001b[1;32m    249\u001b[0m             \u001b[38;5;124mf\u001b[39m\u001b[38;5;124m\"\u001b[39m\u001b[38;5;124m(\u001b[39m\u001b[38;5;132;01m{\u001b[39;00m\u001b[38;5;28mlen\u001b[39m(b)\u001b[38;5;132;01m}\u001b[39;00m\u001b[38;5;124m bytes not processed)\u001b[39m\u001b[38;5;124m\"\u001b[39m\n\u001b[1;32m    250\u001b[0m         )\n\u001b[1;32m    252\u001b[0m b \u001b[38;5;241m=\u001b[39m b \u001b[38;5;241m+\u001b[39m s\n\u001b[0;32m--> 253\u001b[0m n, err_code \u001b[38;5;241m=\u001b[39m \u001b[43mdecoder\u001b[49m\u001b[38;5;241;43m.\u001b[39;49m\u001b[43mdecode\u001b[49m\u001b[43m(\u001b[49m\u001b[43mb\u001b[49m\u001b[43m)\u001b[49m\n\u001b[1;32m    254\u001b[0m \u001b[38;5;28;01mif\u001b[39;00m n \u001b[38;5;241m<\u001b[39m \u001b[38;5;241m0\u001b[39m:\n\u001b[1;32m    255\u001b[0m     \u001b[38;5;28;01mbreak\u001b[39;00m\n",
      "\u001b[0;31mKeyboardInterrupt\u001b[0m: "
     ]
    }
   ],
   "source": [
    "dhw_results = []\n",
    "for index, row in point_data.iterrows():\n",
    "    point_id = row['id']\n",
    "    latitude = row['latitude']\n",
    "    longitude = row['longitude']\n",
    "    date = row['date']\n",
    "\n",
    "    point = Point(longitude, latitude)\n",
    "    buffer_radius = 10000  # 10 km buffer\n",
    "\n",
    "    buffer = point.buffer(buffer_radius)\n",
    "    buffer_gdf = GeoDataFrame(geometry=[buffer])\n",
    "\n",
    "    year_folder = str(date.year)\n",
    "    dhw_folder = os.path.join('../DHW', year_folder)\n",
    "\n",
    "    dhw_values = []\n",
    "    for filename in os.listdir(dhw_folder):\n",
    "        if filename.endswith('.png'):\n",
    "            image_path = os.path.join(dhw_folder, filename)\n",
    "            image = Image.open(image_path)\n",
    "            pixel_coords = point_to_pixel_coords(point, image)\n",
    "            dhw_value = image.getpixel(pixel_coords)\n",
    "            dhw_values.append(dhw_value)\n",
    "\n",
    "    mean_dhw = sum(dhw_values) / len(dhw_values)\n",
    "    dhw_results.append((point_id, mean_dhw))\n",
    "\n",
    "\n"
   ]
  },
  {
   "cell_type": "markdown",
   "id": "220307c4",
   "metadata": {},
   "source": [
    "### Create a new CSV file with the point IDs and the corresponding mean DHW values"
   ]
  },
  {
   "cell_type": "code",
   "execution_count": null,
   "id": "f34e4b24",
   "metadata": {},
   "outputs": [],
   "source": [
    "output_file = '../Results/mean_dhw_values.csv'\n",
    "with open(output_file, 'w', newline='') as csvfile:\n",
    "    writer = csv.writer(csvfile)\n",
    "    writer.writerow(['point_id', 'mean_dhw'])\n",
    "    writer.writerows(dhw_results)\n"
   ]
  }
 ],
 "metadata": {
  "kernelspec": {
   "display_name": "Python 3 (ipykernel)",
   "language": "python",
   "name": "python3"
  },
  "language_info": {
   "codemirror_mode": {
    "name": "ipython",
    "version": 3
   },
   "file_extension": ".py",
   "mimetype": "text/x-python",
   "name": "python",
   "nbconvert_exporter": "python",
   "pygments_lexer": "ipython3",
   "version": "3.10.6"
  }
 },
 "nbformat": 4,
 "nbformat_minor": 5
}
