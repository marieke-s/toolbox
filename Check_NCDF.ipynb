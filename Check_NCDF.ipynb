{
 "cells": [
  {
   "cell_type": "markdown",
   "id": "8ef082a7-ff6a-4db9-94d7-995f13bbe9a0",
   "metadata": {},
   "source": [
    "# Set up"
   ]
  },
  {
   "cell_type": "code",
   "execution_count": null,
   "id": "e8815065-5516-4f38-999b-ba39a0565e38",
   "metadata": {},
   "outputs": [],
   "source": [
    "import xarray as xr\n",
    "import netCDF4\n",
    "import matplotlib.pyplot as plt\n",
    "import os"
   ]
  },
  {
   "cell_type": "markdown",
   "id": "769c4967-ad9f-4f87-9f48-1efa0eec29f7",
   "metadata": {},
   "source": [
    "# Check file info"
   ]
  },
  {
   "cell_type": "code",
   "execution_count": null,
   "id": "1cdc2998-d460-4666-8bae-4a83a48f82d4",
   "metadata": {},
   "outputs": [],
   "source": [
    "# Path to the NetCDF file\n",
    "nc_file_path = \"../Copernicus/data/20172023_fullextent_OCEANCOLOUR_MED_BGC_L4_MY_009_144.nc\"\n",
    "\n",
    "# Open the NetCDF file\n",
    "ds = xr.open_dataset(nc_file_path, engine='netcdf4')\n",
    "\n",
    "# Print the dataset information\n",
    "ds.info"
   ]
  },
  {
   "cell_type": "markdown",
   "id": "1520562a-bdc4-4377-8b5f-c6689aa0e0a1",
   "metadata": {},
   "source": [
    "# Plot part of the file"
   ]
  },
  {
   "cell_type": "code",
   "execution_count": null,
   "id": "8b87baa3-f2d8-4ea0-8557-71ade6c8ee6b",
   "metadata": {},
   "outputs": [],
   "source": [
    "# Open the NetCDF file\n",
    "ds = xr.open_dataset(nc_file_path)\n",
    "\n",
    "# Get the latitude and longitude coordinates\n",
    "lats = ds.latitude\n",
    "lons = ds.longitude\n",
    "\n",
    "# Function to plot chlorophyll concentration for a given date\n",
    "def plot_chlorophyll_for_date(date):\n",
    "    # Get the CHL data for the given date\n",
    "    chl_data = ds.CHL.sel(time=date, method='nearest')\n",
    "\n",
    "    # Plot the data on a map\n",
    "    plt.figure(figsize=(10, 6))\n",
    "    plt.contourf(lons, lats, chl_data, cmap='viridis', levels=20)\n",
    "    plt.colorbar(label='Chlorophyll Concentration (mg/m^3)')\n",
    "    plt.xlabel('Longitude')\n",
    "    plt.ylabel('Latitude')\n",
    "    plt.title(f'Chlorophyll Concentration on {date}')\n",
    "    plt.show()\n",
    "\n",
    "# Ask user for input date\n",
    "input_date = input(\"Enter the date (YYYY-MM-DD): \")\n",
    "\n",
    "# Plot chlorophyll concentration for the input date\n",
    "plot_chlorophyll_for_date(input_date)\n",
    "\n"
   ]
  }
 ],
 "metadata": {
  "kernelspec": {
   "display_name": "Python 3 (ipykernel)",
   "language": "python",
   "name": "python3"
  },
  "language_info": {
   "codemirror_mode": {
    "name": "ipython",
    "version": 3
   },
   "file_extension": ".py",
   "mimetype": "text/x-python",
   "name": "python",
   "nbconvert_exporter": "python",
   "pygments_lexer": "ipython3",
   "version": "3.11.8"
  }
 },
 "nbformat": 4,
 "nbformat_minor": 5
}
