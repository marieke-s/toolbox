{
 "cells": [
  {
   "cell_type": "markdown",
   "id": "b0a9c1d0",
   "metadata": {},
   "source": [
    "# IA_Biodiv Lucie Mahaut - SSS"
   ]
  },
  {
   "cell_type": "code",
   "execution_count": 1,
   "id": "916d8a04",
   "metadata": {},
   "outputs": [],
   "source": [
    "from geoenrich import *"
   ]
  },
  {
   "cell_type": "code",
   "execution_count": 2,
   "id": "246f7f62",
   "metadata": {},
   "outputs": [
    {
     "ename": "ModuleNotFoundError",
     "evalue": "No module named 'geoenrich.credentials_example'",
     "output_type": "error",
     "traceback": [
      "\u001b[0;31m---------------------------------------------------------------------------\u001b[0m",
      "\u001b[0;31mFileNotFoundError\u001b[0m                         Traceback (most recent call last)",
      "File \u001b[0;32m~/miniconda3/envs/geoenrich/lib/python3.8/site-packages/geoenrich/satellite.py:16\u001b[0m\n\u001b[1;32m     15\u001b[0m \u001b[38;5;28;01mtry\u001b[39;00m:\n\u001b[0;32m---> 16\u001b[0m     \u001b[38;5;28;01mfrom\u001b[39;00m \u001b[38;5;21;01mgeoenrich\u001b[39;00m\u001b[38;5;21;01m.\u001b[39;00m\u001b[38;5;21;01mcredentials\u001b[39;00m \u001b[38;5;28;01mimport\u001b[39;00m \u001b[38;5;241m*\u001b[39m\n\u001b[1;32m     17\u001b[0m \u001b[38;5;28;01mexcept\u001b[39;00m:\n",
      "File \u001b[0;32m~/miniconda3/envs/geoenrich/lib/python3.8/site-packages/geoenrich/credentials.py:13\u001b[0m\n\u001b[1;32m     12\u001b[0m \u001b[38;5;28;01mif\u001b[39;00m \u001b[38;5;129;01mnot\u001b[39;00m root_path\u001b[38;5;241m.\u001b[39mexists() :\n\u001b[0;32m---> 13\u001b[0m \t\u001b[43mroot_path\u001b[49m\u001b[38;5;241;43m.\u001b[39;49m\u001b[43mmkdir\u001b[49m\u001b[43m(\u001b[49m\u001b[43m)\u001b[49m\n\u001b[1;32m     15\u001b[0m \u001b[38;5;28;01mif\u001b[39;00m \u001b[38;5;129;01mnot\u001b[39;00m sat_path\u001b[38;5;241m.\u001b[39mexists() :\n",
      "File \u001b[0;32m~/miniconda3/envs/geoenrich/lib/python3.8/pathlib.py:1288\u001b[0m, in \u001b[0;36mPath.mkdir\u001b[0;34m(self, mode, parents, exist_ok)\u001b[0m\n\u001b[1;32m   1287\u001b[0m \u001b[38;5;28;01mtry\u001b[39;00m:\n\u001b[0;32m-> 1288\u001b[0m     \u001b[38;5;28;43mself\u001b[39;49m\u001b[38;5;241;43m.\u001b[39;49m\u001b[43m_accessor\u001b[49m\u001b[38;5;241;43m.\u001b[39;49m\u001b[43mmkdir\u001b[49m\u001b[43m(\u001b[49m\u001b[38;5;28;43mself\u001b[39;49m\u001b[43m,\u001b[49m\u001b[43m \u001b[49m\u001b[43mmode\u001b[49m\u001b[43m)\u001b[49m\n\u001b[1;32m   1289\u001b[0m \u001b[38;5;28;01mexcept\u001b[39;00m \u001b[38;5;167;01mFileNotFoundError\u001b[39;00m:\n",
      "\u001b[0;31mFileNotFoundError\u001b[0m: [Errno 2] No such file or directory: '~/Downloads'",
      "\nDuring handling of the above exception, another exception occurred:\n",
      "\u001b[0;31mModuleNotFoundError\u001b[0m                       Traceback (most recent call last)",
      "Cell \u001b[0;32mIn[2], line 2\u001b[0m\n\u001b[1;32m      1\u001b[0m \u001b[38;5;28;01mimport\u001b[39;00m \u001b[38;5;21;01mos\u001b[39;00m\n\u001b[0;32m----> 2\u001b[0m \u001b[38;5;28;01mfrom\u001b[39;00m \u001b[38;5;21;01mgeoenrich\u001b[39;00m\u001b[38;5;21;01m.\u001b[39;00m\u001b[38;5;21;01mdataloader\u001b[39;00m \u001b[38;5;28;01mimport\u001b[39;00m \u001b[38;5;241m*\u001b[39m\n\u001b[1;32m      3\u001b[0m \u001b[38;5;28;01mfrom\u001b[39;00m \u001b[38;5;21;01mgeoenrich\u001b[39;00m\u001b[38;5;21;01m.\u001b[39;00m\u001b[38;5;21;01menrichment\u001b[39;00m \u001b[38;5;28;01mimport\u001b[39;00m \u001b[38;5;241m*\u001b[39m\n",
      "File \u001b[0;32m~/miniconda3/envs/geoenrich/lib/python3.8/site-packages/geoenrich/dataloader.py:19\u001b[0m\n\u001b[1;32m     15\u001b[0m \u001b[38;5;28;01mfrom\u001b[39;00m \u001b[38;5;21;01mpygbif\u001b[39;00m \u001b[38;5;28;01mimport\u001b[39;00m occurrences \u001b[38;5;28;01mas\u001b[39;00m occ\n\u001b[1;32m     17\u001b[0m \u001b[38;5;28;01mimport\u001b[39;00m \u001b[38;5;21;01mgeoenrich\u001b[39;00m\n\u001b[0;32m---> 19\u001b[0m \u001b[38;5;28;01mfrom\u001b[39;00m \u001b[38;5;21;01mgeoenrich\u001b[39;00m\u001b[38;5;21;01m.\u001b[39;00m\u001b[38;5;21;01menrichment\u001b[39;00m \u001b[38;5;28;01mimport\u001b[39;00m parse_columns\n\u001b[1;32m     21\u001b[0m \u001b[38;5;28;01mtry\u001b[39;00m:\n\u001b[1;32m     22\u001b[0m     \u001b[38;5;28;01mfrom\u001b[39;00m \u001b[38;5;21;01mgeoenrich\u001b[39;00m\u001b[38;5;21;01m.\u001b[39;00m\u001b[38;5;21;01mcredentials\u001b[39;00m \u001b[38;5;28;01mimport\u001b[39;00m \u001b[38;5;241m*\u001b[39m\n",
      "File \u001b[0;32m~/miniconda3/envs/geoenrich/lib/python3.8/site-packages/geoenrich/enrichment.py:23\u001b[0m\n\u001b[1;32m     20\u001b[0m \u001b[38;5;28;01mfrom\u001b[39;00m \u001b[38;5;21;01mtqdm\u001b[39;00m \u001b[38;5;28;01mimport\u001b[39;00m tqdm\n\u001b[1;32m     22\u001b[0m \u001b[38;5;28;01mimport\u001b[39;00m \u001b[38;5;21;01mgeoenrich\u001b[39;00m\n\u001b[0;32m---> 23\u001b[0m \u001b[38;5;28;01mfrom\u001b[39;00m \u001b[38;5;21;01mgeoenrich\u001b[39;00m\u001b[38;5;21;01m.\u001b[39;00m\u001b[38;5;21;01msatellite\u001b[39;00m \u001b[38;5;28;01mimport\u001b[39;00m \u001b[38;5;241m*\u001b[39m\n\u001b[1;32m     25\u001b[0m \u001b[38;5;28;01mtry\u001b[39;00m:\n\u001b[1;32m     26\u001b[0m     \u001b[38;5;28;01mfrom\u001b[39;00m \u001b[38;5;21;01mgeoenrich\u001b[39;00m\u001b[38;5;21;01m.\u001b[39;00m\u001b[38;5;21;01mcredentials\u001b[39;00m \u001b[38;5;28;01mimport\u001b[39;00m \u001b[38;5;241m*\u001b[39m\n",
      "File \u001b[0;32m~/miniconda3/envs/geoenrich/lib/python3.8/site-packages/geoenrich/satellite.py:18\u001b[0m\n\u001b[1;32m     16\u001b[0m     \u001b[38;5;28;01mfrom\u001b[39;00m \u001b[38;5;21;01mgeoenrich\u001b[39;00m\u001b[38;5;21;01m.\u001b[39;00m\u001b[38;5;21;01mcredentials\u001b[39;00m \u001b[38;5;28;01mimport\u001b[39;00m \u001b[38;5;241m*\u001b[39m\n\u001b[1;32m     17\u001b[0m \u001b[38;5;28;01mexcept\u001b[39;00m:\n\u001b[0;32m---> 18\u001b[0m     \u001b[38;5;28;01mfrom\u001b[39;00m \u001b[38;5;21;01mgeoenrich\u001b[39;00m\u001b[38;5;21;01m.\u001b[39;00m\u001b[38;5;21;01mcredentials_example\u001b[39;00m \u001b[38;5;28;01mimport\u001b[39;00m \u001b[38;5;241m*\u001b[39m\n\u001b[1;32m     19\u001b[0m     \u001b[38;5;28mprint\u001b[39m(\u001b[38;5;124m'\u001b[39m\u001b[38;5;124mPlease rename credentials_example.py to credentials.py and fill in the root path and credentials, if needed\u001b[39m\u001b[38;5;124m'\u001b[39m)\n\u001b[1;32m     20\u001b[0m     \u001b[38;5;28mprint\u001b[39m(\u001b[38;5;124m'\u001b[39m\u001b[38;5;124mFile location: \u001b[39m\u001b[38;5;124m'\u001b[39m \u001b[38;5;241m+\u001b[39m \u001b[38;5;28mstr\u001b[39m(Path(geoenrich\u001b[38;5;241m.\u001b[39m\u001b[38;5;18m__file__\u001b[39m)\u001b[38;5;241m.\u001b[39mwith_name(\u001b[38;5;124m'\u001b[39m\u001b[38;5;124mcredentials_example.py\u001b[39m\u001b[38;5;124m'\u001b[39m)))\n",
      "\u001b[0;31mModuleNotFoundError\u001b[0m: No module named 'geoenrich.credentials_example'"
     ]
    }
   ],
   "source": [
    "import os\n",
    "from geoenrich.dataloader import *\n",
    "from geoenrich.enrichment import *"
   ]
  },
  {
   "cell_type": "markdown",
   "id": "fa636004",
   "metadata": {},
   "source": [
    "## Areas"
   ]
  },
  {
   "cell_type": "code",
   "execution_count": 4,
   "id": "b954e41b",
   "metadata": {},
   "outputs": [
    {
     "name": "stdout",
     "output_type": "stream",
     "text": [
      "14 areas were loaded.\n"
     ]
    },
    {
     "name": "stderr",
     "output_type": "stream",
     "text": [
      "/home/marieke/.local/lib/python3.10/site-packages/geoenrich/dataloader.py:267: FutureWarning: The argument 'infer_datetime_format' is deprecated and will be removed in a future version. A strict version of it is now the default, see https://pandas.pydata.org/pdeps/0004-consistent-to-datetime-parsing.html. You can safely remove this argument.\n",
      "  rawdf = pd.read_csv(path, index_col = 'id', parse_dates = ['date_min', 'date_max'],\n"
     ]
    }
   ],
   "source": [
    "# Load your areas data from csv\n",
    "path = '/media/marieke/SharedData/IA_Biodiv/Data/site_areas_geoenrich2_LM.csv'\n",
    "df = load_areas_file(path)"
   ]
  },
  {
   "cell_type": "code",
   "execution_count": 6,
   "id": "d167f8c6",
   "metadata": {},
   "outputs": [
    {
     "name": "stdout",
     "output_type": "stream",
     "text": [
      "File saved at /media/marieke/Windows/Users/Babacar/Downloads/biodiv/Australia_areas_chloro.csv\n"
     ]
    }
   ],
   "source": [
    "# Create enrichment file\n",
    "dataset_ref_areas = 'Australia_areas_chloro'\n",
    "create_enrichment_file(df, dataset_ref_areas)\n",
    "\n",
    "# Prepare enrichment \n",
    "from geoenrich.enrichment import enrich\n",
    "\n",
    "# Define parameters\n",
    "var_id = 'chlorophyll'\n",
    "geo_buff = 10\n",
    "time_buff = (-365, 0)"
   ]
  },
  {
   "cell_type": "code",
   "execution_count": 7,
   "id": "27f38efb",
   "metadata": {},
   "outputs": [
    {
     "name": "stdout",
     "output_type": "stream",
     "text": [
      "14 areas were loaded from enrichment file\n",
      "Ignoring 0 rows because data is not available at these dates\n"
     ]
    },
    {
     "name": "stderr",
     "output_type": "stream",
     "text": [
      "100%|███████████████████████████████████████████| 14/14 [01:12<00:00,  5.20s/it]"
     ]
    },
    {
     "name": "stdout",
     "output_type": "stream",
     "text": [
      "Enrichment over\n"
     ]
    },
    {
     "name": "stderr",
     "output_type": "stream",
     "text": [
      "\n"
     ]
    }
   ],
   "source": [
    "# Enrich \n",
    "enrich(dataset_ref_areas, var_id, geo_buff, time_buff)"
   ]
  },
  {
   "cell_type": "markdown",
   "id": "3b04ae0a",
   "metadata": {},
   "source": [
    "## Occurences"
   ]
  },
  {
   "cell_type": "code",
   "execution_count": 8,
   "id": "13e4c62e",
   "metadata": {},
   "outputs": [
    {
     "name": "stdout",
     "output_type": "stream",
     "text": [
      "1848 occurrences were loaded.\n"
     ]
    }
   ],
   "source": [
    "# Load your occurence data from csv\n",
    "import os\n",
    "from geoenrich.dataloader import *\n",
    "\n",
    "geodf = import_occurrences_csv(path = '/media/marieke/SharedData/IA_Biodiv/Data/site_coord_geoenrich2_LM.csv', id_col = 'id', date_col = 'date', lat_col = 'latitude', lon_col = 'longitude')"
   ]
  },
  {
   "cell_type": "code",
   "execution_count": 10,
   "id": "222754e8",
   "metadata": {},
   "outputs": [
    {
     "name": "stdout",
     "output_type": "stream",
     "text": [
      "File saved at /media/marieke/Windows/Users/Babacar/Downloads/biodiv/chlorophyll_all.csv\n"
     ]
    }
   ],
   "source": [
    "# Create enrichment file\n",
    "from geoenrich.enrichment import *\n",
    "\n",
    "dataset_ref_occ = 'chlorophyll_all'\n",
    "create_enrichment_file(geodf, dataset_ref_occ)\n",
    "\n",
    "# Prepare enrichment \n",
    "from geoenrich.enrichment import enrich\n",
    "\n",
    "# Define parameters\n",
    "var_id = 'chlorophyll'\n",
    "geo_buff = 10\n",
    "time_buff = (-365, 0)"
   ]
  },
  {
   "cell_type": "code",
   "execution_count": 11,
   "id": "d1632b81",
   "metadata": {
    "scrolled": true
   },
   "outputs": [
    {
     "name": "stdout",
     "output_type": "stream",
     "text": [
      "1848 occurrences were loaded from enrichment file\n",
      "Ignoring 0 rows because data is not available at these dates\n"
     ]
    },
    {
     "name": "stderr",
     "output_type": "stream",
     "text": [
      "100%|███████████████████████████████████████| 500/500 [1:38:54<00:00, 11.87s/it]"
     ]
    },
    {
     "name": "stdout",
     "output_type": "stream",
     "text": [
      "Enrichment over\n"
     ]
    },
    {
     "name": "stderr",
     "output_type": "stream",
     "text": [
      "\n"
     ]
    }
   ],
   "source": [
    "# Enrich \n",
    "enrich(dataset_ref_occ, var_id, geo_buff, time_buff, slice = (0, 500))"
   ]
  },
  {
   "cell_type": "code",
   "execution_count": 12,
   "id": "9247b28f",
   "metadata": {
    "scrolled": true
   },
   "outputs": [
    {
     "name": "stdout",
     "output_type": "stream",
     "text": [
      "1848 occurrences were loaded from enrichment file\n",
      "Ignoring 0 rows because data is not available at these dates\n"
     ]
    },
    {
     "name": "stderr",
     "output_type": "stream",
     "text": [
      "100%|█████████████████████████████████████| 1347/1347 [5:26:30<00:00, 14.54s/it]"
     ]
    },
    {
     "name": "stdout",
     "output_type": "stream",
     "text": [
      "Enrichment over\n"
     ]
    },
    {
     "name": "stderr",
     "output_type": "stream",
     "text": [
      "\n"
     ]
    }
   ],
   "source": [
    "# Enrich \n",
    "enrich(dataset_ref_occ, var_id, geo_buff, time_buff, slice = (501,1848))"
   ]
  },
  {
   "cell_type": "raw",
   "id": "3a61c9a8",
   "metadata": {},
   "source": [
    "start time = 20:20 env"
   ]
  },
  {
   "cell_type": "code",
   "execution_count": 16,
   "id": "47145adb",
   "metadata": {},
   "outputs": [
    {
     "name": "stdout",
     "output_type": "stream",
     "text": [
      "1848 occurrences were loaded from enrichment file\n",
      "Computing stats for chlorophyll...\n"
     ]
    },
    {
     "name": "stderr",
     "output_type": "stream",
     "text": [
      "100%|███████████████████████████████████████| 1848/1848 [43:38<00:00,  1.42s/it]"
     ]
    },
    {
     "name": "stdout",
     "output_type": "stream",
     "text": [
      "File saved at Results/chlorophyll_all_1_stats.csv\n"
     ]
    },
    {
     "name": "stderr",
     "output_type": "stream",
     "text": [
      "\n"
     ]
    }
   ],
   "source": [
    "# Export summary statistics to a csv file\n",
    "from geoenrich.enrichment import read_ids, enrichment_status\n",
    "from geoenrich.exports import *\n",
    "\n",
    "dataset_ref = 'chlorophyll_all'\n",
    "var_id = 'chlorophyll'\n",
    "\n",
    "produce_stats(dataset_ref, var_id, out_path = './Results/')"
   ]
  }
 ],
 "metadata": {
  "kernelspec": {
   "display_name": "Python 3 (ipykernel)",
   "language": "python",
   "name": "python3"
  },
  "language_info": {
   "codemirror_mode": {
    "name": "ipython",
    "version": 3
   },
   "file_extension": ".py",
   "mimetype": "text/x-python",
   "name": "python",
   "nbconvert_exporter": "python",
   "pygments_lexer": "ipython3",
   "version": "3.8.18"
  }
 },
 "nbformat": 4,
 "nbformat_minor": 5
}
