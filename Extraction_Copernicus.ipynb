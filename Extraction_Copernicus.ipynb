{
 "cells": [
  {
   "cell_type": "markdown",
   "id": "be71b33e-d830-441a-8415-2ba92940957e",
   "metadata": {},
   "source": [
    "Import packages"
   ]
  },
  {
   "cell_type": "code",
   "execution_count": 1,
   "id": "98e8ae7e-e659-42aa-ae4e-df557125991c",
   "metadata": {},
   "outputs": [],
   "source": [
    "import copernicusmarine"
   ]
  },
  {
   "cell_type": "markdown",
   "id": "fcb65710-be0a-4f90-ab60-6de1cdf1c028",
   "metadata": {},
   "source": [
    "Data extraction"
   ]
  },
  {
   "cell_type": "code",
   "execution_count": 5,
   "id": "8dc3ff96-ff1f-4499-8625-8d5ab0c43dde",
   "metadata": {},
   "outputs": [
    {
     "name": "stdout",
     "output_type": "stream",
     "text": [
      "username:"
     ]
    },
    {
     "name": "stdin",
     "output_type": "stream",
     "text": [
      "  mschultz2\n"
     ]
    },
    {
     "name": "stdout",
     "output_type": "stream",
     "text": [
      "password:"
     ]
    },
    {
     "name": "stdin",
     "output_type": "stream",
     "text": [
      "  ········\n"
     ]
    },
    {
     "name": "stdout",
     "output_type": "stream",
     "text": [
      "INFO - 2024-02-27T13:51:32Z - Dataset version was not specified, the latest one was selected: \"202311\"\n",
      "INFO - 2024-02-27T13:51:32Z - Dataset part was not specified, the first one was selected: \"default\"\n",
      "INFO - 2024-02-27T13:51:33Z - Service was not specified, the default one was selected: \"arco-time-series\"\n",
      "INFO - 2024-02-27T13:51:33Z - Downloading using service arco-time-series...\n",
      "INFO - 2024-02-27T13:51:34Z - <xarray.Dataset> Size: 2GB\n",
      "Dimensions:    (time: 2556, latitude: 265, longitude: 565)\n",
      "Coordinates:\n",
      "  * latitude   (latitude) float32 1kB 41.25 41.26 41.27 ... 43.9 43.91 43.92\n",
      "  * longitude  (longitude) float32 2kB 2.961 2.974 2.987 ... 10.18 10.19 10.21\n",
      "  * time       (time) datetime64[ns] 20kB 2017-01-01 2017-01-02 ... 2023-12-31\n",
      "Data variables:\n",
      "    CHL        (time, latitude, longitude) float32 2GB dask.array<chunksize=(1847, 16, 32), meta=np.ndarray>\n",
      "Attributes: (12/42)\n",
      "    Conventions:               CF-1.4\n",
      "    citation:                   \n",
      "    cmems_product_id:          OCEANCOLOUR_MED_BGC_L4_MY_009_144\n",
      "    cmems_production_unit:     OC-CNR-ROMA-IT\n",
      "    comment:                   r=log10(max([rrs443,rrs490,rrs510])/rrs555) ; ...\n",
      "    contact:                   technical@gos.artov.isac.cnr.it\n",
      "    ...                        ...\n",
      "    start_time:                08:00:00 UTC\n",
      "    stop_date:                 2022-12-31\n",
      "    stop_time:                 14:00:00 UTC\n",
      "    title:                     cmems_obs-oc_med_bgc-plankton_my_l4-gapfree-mu...\n",
      "    westernmost_longitude:     -6.0\n",
      "    copernicusmarine_version:  1.0.3\n",
      "INFO - 2024-02-27T13:51:34Z - Estimated size of the dataset file is 1460.676 MB.\n",
      "Do you want to proceed with download? [Y/n]:"
     ]
    },
    {
     "name": "stderr",
     "output_type": "stream",
     "text": [
      "/home/marieke/miniconda3/lib/python3.11/site-packages/copernicusmarine/download_functions/download_arco_series.py:50: FutureWarning: The return type of `Dataset.dims` will be changed to return a set of dimension names in future, in order to be more consistent with `DataArray.dims`. To access a mapping from dimension names to lengths, please use `Dataset.sizes`.\n",
      "  _filter_dimensions(preferred_chunks, dataset.dims.keys())\n"
     ]
    },
    {
     "name": "stdin",
     "output_type": "stream",
     "text": [
      "  y\n"
     ]
    },
    {
     "name": "stdout",
     "output_type": "stream",
     "text": [
      "INFO - 2024-02-27T13:52:00Z - Writing to local storage. Please wait...\n"
     ]
    },
    {
     "data": {
      "application/vnd.jupyter.widget-view+json": {
       "model_id": "7269e51fcfa44f739fc49339204104af",
       "version_major": 2,
       "version_minor": 0
      },
      "text/plain": [
       "  0%|          | 0/8524 [00:00<?, ?it/s]"
      ]
     },
     "metadata": {},
     "output_type": "display_data"
    },
    {
     "name": "stdout",
     "output_type": "stream",
     "text": [
      "INFO - 2024-02-27T13:57:35Z - Successfully downloaded to Copernicus/Copercopernicus-data/20172023_OCEANCOLOUR_MED_BGC_L4_MY_009_144.nc\n"
     ]
    },
    {
     "data": {
      "text/plain": [
       "PosixPath('Copernicus/Copercopernicus-data/20172023_OCEANCOLOUR_MED_BGC_L4_MY_009_144.nc')"
      ]
     },
     "execution_count": 5,
     "metadata": {},
     "output_type": "execute_result"
    }
   ],
   "source": [
    "copernicusmarine.subset(\n",
    "  dataset_id=\"cmems_obs-oc_med_bgc-plankton_my_l4-gapfree-multi-1km_P1D\",\n",
    "  variables=[\"CHL\"],\n",
    "  minimum_latitude=41.2433333330000025,\n",
    "  maximum_latitude=43.9239674809999983,\n",
    "  minimum_longitude=2.9496796129999998,\n",
    "  maximum_longitude=10.2183333330000004,\n",
    "  start_datetime=\"2017-01-01T00:00:00\",\n",
    "  end_datetime=\"2023-12-31T23:59:59\",\n",
    "  minimum_depth=0,\n",
    "  maximum_depth=30,\n",
    "  output_filename = \"20172023_OCEANCOLOUR_MED_BGC_L4_MY_009_144.nc\",\n",
    "  output_directory = \"./Copernicus/Copercopernicus-data\"\n",
    ")"
   ]
  }
 ],
 "metadata": {
  "kernelspec": {
   "display_name": "Python 3 (ipykernel)",
   "language": "python",
   "name": "python3"
  },
  "language_info": {
   "codemirror_mode": {
    "name": "ipython",
    "version": 3
   },
   "file_extension": ".py",
   "mimetype": "text/x-python",
   "name": "python",
   "nbconvert_exporter": "python",
   "pygments_lexer": "ipython3",
   "version": "3.11.8"
  }
 },
 "nbformat": 4,
 "nbformat_minor": 5
}
